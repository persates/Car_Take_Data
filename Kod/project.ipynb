{
 "cells": [
  {
   "cell_type": "code",
   "execution_count": 1,
   "metadata": {},
   "outputs": [],
   "source": [
    "from selenium import webdriver\n",
    "from selenium.webdriver.common.by import By\n",
    "from selenium.webdriver.chrome.service import Service\n",
    "from selenium.webdriver.support.ui import WebDriverWait\n",
    "from selenium.webdriver.support import expected_conditions as EC\n",
    "from webdriver_manager.chrome import ChromeDriverManager\n",
    "import pandas as pd\n",
    "from openpyxl import load_workbook\n",
    "from openpyxl.utils import get_column_letter\n",
    "from openpyxl.styles import PatternFill, Alignment, Font\n",
    "\n"
   ]
  },
  {
   "cell_type": "markdown",
   "metadata": {},
   "source": []
  },
  {
   "cell_type": "code",
   "execution_count": 2,
   "metadata": {},
   "outputs": [
    {
     "name": "stdout",
     "output_type": "stream",
     "text": [
      "Requirement already satisfied: openpyxl in c:\\users\\90546\\appdata\\local\\programs\\python\\python312\\lib\\site-packages (3.1.5)\n",
      "Requirement already satisfied: et-xmlfile in c:\\users\\90546\\appdata\\local\\programs\\python\\python312\\lib\\site-packages (from openpyxl) (2.0.0)\n",
      "Note: you may need to restart the kernel to use updated packages.\n"
     ]
    }
   ],
   "source": [
    "pip install openpyxl"
   ]
  },
  {
   "cell_type": "code",
   "execution_count": 3,
   "metadata": {},
   "outputs": [
    {
     "name": "stdout",
     "output_type": "stream",
     "text": [
      "Veriler Excel dosyasına başarıyla kaydedildi: C:\\Users\\90546\\Desktop\\Cari7.xlsx\n"
     ]
    }
   ],
   "source": [
    "# WebDriver'ı başlat\n",
    "options = webdriver.ChromeOptions()\n",
    "options.add_argument(\"--start-maximized\")\n",
    "\n",
    "driver = webdriver.Chrome(service=Service(ChromeDriverManager().install()), options=options)\n",
    "\n",
    "try:\n",
    "    # AutoScout24 URL'sine git\n",
    "    driver.get(\"https://www.autoscout24.com.tr/lst/bmw/i7\")\n",
    "\n",
    "    # İsim, fiyat, km ve konum öğelerinin yüklenmesini bekle\n",
    "    WebDriverWait(driver, 20).until(\n",
    "        EC.presence_of_all_elements_located((By.CLASS_NAME, \"ListItem_title__ndA4s\"))\n",
    "    )\n",
    "\n",
    "    # İsim öğelerini bul\n",
    "    car_names = driver.find_elements(By.CLASS_NAME, \"ListItem_title__ndA4s\")\n",
    "\n",
    "    # Fiyat öğelerini bul\n",
    "    car_prices = driver.find_elements(By.CLASS_NAME, \"Price_price__APlgs\")\n",
    "\n",
    "    # Kilometre öğelerini data-testid ile bul\n",
    "    car_kms = driver.find_elements(By.XPATH, \"//span[@data-testid='VehicleDetails-mileage_road']\")\n",
    "\n",
    "    # Konum öğelerini bul\n",
    "    car_locations = driver.find_elements(By.CLASS_NAME, \"SellerInfo_address__leRMu\")\n",
    "\n",
    "    # İsim, fiyat, kilometre ve konum bilgilerini birleştirip liste oluştur\n",
    "    car_data = []\n",
    "    for name, price, km, location in zip(car_names, car_prices, car_kms, car_locations):\n",
    "        # Eksik veri kontrolü\n",
    "        car_name = name.text.strip() if name else \"Unkown\"\n",
    "        car_price = price.text.strip() if price else \"No Price\"\n",
    "        \n",
    "        # Kilometre kontrolü: Eğer boş, `-` veya geçersizse \"KM Yok\" yaz\n",
    "        car_km_raw = km.text.strip() if km else \"-\"\n",
    "        car_km = car_km_raw if any(char.isdigit() for char in car_km_raw) else \"KM Yok\"\n",
    "        \n",
    "        car_location = location.text.strip() if location else \"Konum Yok\"\n",
    "\n",
    "        # Verileri listeye ekle\n",
    "        car_data.append({\n",
    "            \"Model\": car_name,\n",
    "            \"Fiyat\": car_price,\n",
    "            \"Kilometre\": car_km,\n",
    "            \"Konum\": car_location\n",
    "        })\n",
    "\n",
    "    # Verileri Pandas DataFrame'e dönüştür\n",
    "    df = pd.DataFrame(car_data)\n",
    "\n",
    "    # Excel'e kaydet\n",
    "    excel_path = \"C:\\\\Users\\\\90546\\\\Desktop\\\\Cari7.xlsx\"\n",
    "    df.to_excel(excel_path, index=False)\n",
    "    print(f\"Veriler Excel dosyasına başarıyla kaydedildi: {excel_path}\")\n",
    "\n",
    "finally:\n",
    "    # Tarayıcıyı kapat\n",
    "    driver.quit()"
   ]
  },
  {
   "cell_type": "code",
   "execution_count": 4,
   "metadata": {},
   "outputs": [
    {
     "name": "stdout",
     "output_type": "stream",
     "text": [
      "Excel tablosu başarıyla düzenlendi: C:\\Users\\90546\\Desktop\\Cari7.xlsx\n"
     ]
    }
   ],
   "source": [
    "# Excel dosyasını yükle\n",
    "file_path = \"C:\\\\Users\\\\90546\\\\Desktop\\\\Cari7.xlsx\"\n",
    "workbook = load_workbook(file_path)\n",
    "\n",
    "# İlk çalışma sayfasını seç\n",
    "sheet = workbook.active\n",
    "\n",
    "# Başlık renkleri ve font tanımları\n",
    "header_colors = {\n",
    "    \"A\": {\"header\": \"4F81BD\", \"content\": \"D9E1F2\"},  # Model: Koyu mavi başlık, açık mavi içerik\n",
    "    \"B\": {\"header\": \"C0504D\", \"content\": \"F4CCCC\"},  # Fiyat: Kırmızı başlık, açık kırmızı içerik\n",
    "    \"C\": {\"header\": \"9BBB59\", \"content\": \"E2EFDA\"},  # Kilometre: Yeşil başlık, açık yeşil içerik\n",
    "    \"D\": {\"header\": \"8064A2\", \"content\": \"D9D2E9\"},  # Konum: Mor başlık, açık mor içerik\n",
    "}\n",
    "header_font = Font(bold=True, color=\"FFFFFF\")  # Beyaz renkli ve kalın font\n",
    "alignment = Alignment(horizontal=\"center\", vertical=\"center\")  # Ortalama\n",
    "\n",
    "# Başlık hücrelerini düzenle ve renk uygula\n",
    "for col_letter, colors in header_colors.items():\n",
    "    # Başlık hücresini renklendir\n",
    "    header_cell = sheet[f\"{col_letter}1\"]\n",
    "    header_cell.fill = PatternFill(start_color=colors[\"header\"], end_color=colors[\"header\"], fill_type=\"solid\")\n",
    "    header_cell.font = header_font\n",
    "    header_cell.alignment = alignment\n",
    "\n",
    "    # İçerik hücrelerini renklendir\n",
    "    for row in sheet.iter_rows(min_row=2, min_col=header_cell.column, max_col=header_cell.column):\n",
    "        for cell in row:\n",
    "            cell.fill = PatternFill(start_color=colors[\"content\"], end_color=colors[\"content\"], fill_type=\"solid\")\n",
    "            cell.alignment = alignment  # İçeriği ortala\n",
    "\n",
    "            # \"KM Yok\" için özel bir renk uygula\n",
    "            if col_letter == \"C\" and cell.value == \"KM Yok\":\n",
    "                cell.fill = PatternFill(start_color=\"FF9999\", end_color=\"FF9999\", fill_type=\"solid\")  # Pembe\n",
    "\n",
    "# Sütun genişliğini ayarla\n",
    "for column in sheet.columns:\n",
    "    max_length = 0\n",
    "    column_letter = get_column_letter(column[0].column)  # Sütun harfi (A, B, C...)\n",
    "    for cell in column:\n",
    "        try:\n",
    "            # Hücredeki metnin uzunluğunu kontrol et\n",
    "            if cell.value:\n",
    "                max_length = max(max_length, len(str(cell.value)))\n",
    "        except:\n",
    "            pass\n",
    "    # Sütun genişliğini ayarla\n",
    "    sheet.column_dimensions[column_letter].width = max_length + 2\n",
    "\n",
    "# Değişiklikleri kaydet\n",
    "workbook.save(file_path)\n",
    "print(f\"Excel tablosu başarıyla düzenlendi: {file_path}\")"
   ]
  },
  {
   "cell_type": "code",
   "execution_count": null,
   "metadata": {},
   "outputs": [],
   "source": []
  },
  {
   "cell_type": "code",
   "execution_count": 5,
   "metadata": {},
   "outputs": [],
   "source": [
    "##df.to_excel(\"C:\\\\Users\\\\90546\\\\Desktop\\\\car.xlsx\",index=False)"
   ]
  },
  {
   "cell_type": "code",
   "execution_count": null,
   "metadata": {},
   "outputs": [],
   "source": []
  },
  {
   "cell_type": "code",
   "execution_count": null,
   "metadata": {},
   "outputs": [],
   "source": []
  }
 ],
 "metadata": {
  "kernelspec": {
   "display_name": "Python 3",
   "language": "python",
   "name": "python3"
  },
  "language_info": {
   "codemirror_mode": {
    "name": "ipython",
    "version": 3
   },
   "file_extension": ".py",
   "mimetype": "text/x-python",
   "name": "python",
   "nbconvert_exporter": "python",
   "pygments_lexer": "ipython3",
   "version": "3.12.6"
  }
 },
 "nbformat": 4,
 "nbformat_minor": 2
}
