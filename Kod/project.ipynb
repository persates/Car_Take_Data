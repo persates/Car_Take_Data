{
 "cells": [
  {
   "cell_type": "code",
   "execution_count": 1,
   "metadata": {},
   "outputs": [],
   "source": [
    "from selenium import webdriver\n",
    "from selenium.webdriver.common.by import By\n",
    "from selenium.webdriver.chrome.service import Service\n",
    "from selenium.webdriver.support.ui import WebDriverWait\n",
    "from selenium.webdriver.support import expected_conditions as EC\n",
    "from webdriver_manager.chrome import ChromeDriverManager\n",
    "import pandas as pd\n",
    "from openpyxl import load_workbook\n",
    "from openpyxl.utils import get_column_letter\n",
    "from openpyxl.styles import PatternFill, Alignment, Font\n",
    "\n"
   ]
  },
  {
   "cell_type": "markdown",
   "metadata": {},
   "source": []
  },
  {
   "cell_type": "code",
   "execution_count": 2,
   "metadata": {},
   "outputs": [
    {
     "name": "stdout",
     "output_type": "stream",
     "text": [
      "Requirement already satisfied: openpyxl in c:\\users\\90546\\appdata\\local\\programs\\python\\python312\\lib\\site-packages (3.1.5)\n",
      "Requirement already satisfied: et-xmlfile in c:\\users\\90546\\appdata\\local\\programs\\python\\python312\\lib\\site-packages (from openpyxl) (2.0.0)\n",
      "Note: you may need to restart the kernel to use updated packages.\n"
     ]
    }
   ],
   "source": [
    "pip install openpyxl"
   ]
  },
  {
   "cell_type": "code",
   "execution_count": 3,
   "metadata": {},
   "outputs": [],
   "source": [
    "# AutoScout24 Verilerini Çekme Fonksiyonu\n",
    "def scrape_autoscout24(driver):\n",
    "    driver.get(\"https://www.autoscout24.com.tr/lst/bmw/i7\")\n",
    "    WebDriverWait(driver, 20).until(\n",
    "        EC.presence_of_all_elements_located((By.CLASS_NAME, \"ListItem_title__ndA4s\"))\n",
    "    )\n",
    "    car_names = driver.find_elements(By.CLASS_NAME, \"ListItem_title__ndA4s\")\n",
    "    car_prices = driver.find_elements(By.CLASS_NAME, \"Price_price__APlgs\")\n",
    "    car_kms = driver.find_elements(By.XPATH, \"//span[@data-testid='VehicleDetails-mileage_road']\")\n",
    "    car_locations = driver.find_elements(By.CLASS_NAME, \"SellerInfo_address__leRMu\")\n",
    "\n",
    "    data = []\n",
    "    for name, price, km, location in zip(car_names, car_prices, car_kms, car_locations):\n",
    "        car_km_raw = km.text.strip() if km else \"-\"\n",
    "        car_km = car_km_raw if any(char.isdigit() for char in car_km_raw) else \"KM Yok\"\n",
    "        data.append({\n",
    "            \"Model\": name.text.strip(),\n",
    "            \"Fiyat\": price.text.strip(),\n",
    "            \"Kilometre\": car_km,\n",
    "            \"Konum\": location.text.strip() if location else \"Konum Yok\",\n",
    "            \"Kaynak\": \"AutoScout24\"  # Kaynak belirtiyoruz\n",
    "        })\n",
    "    return data\n",
    "\n",
    "# Mobile.de Verilerini Çekme Fonksiyonu\n",
    "def scrape_mobile_de(driver):\n",
    "    driver.get(\"https://suchen.mobile.de/fahrzeuge/search.html?dam=false&isSearchRequest=true&ms=3500%3B336%3B%3B&ref=quickSearch&s=Car&sb=rel&vc=Car\")\n",
    "    WebDriverWait(driver, 20).until(\n",
    "        EC.presence_of_all_elements_located((By.CLASS_NAME, \"EflMX\"))\n",
    "    )\n",
    "    car_names = driver.find_elements(By.CLASS_NAME, \"EflMX\")\n",
    "    car_prices = driver.find_elements(By.CLASS_NAME, \"fpviJ\")\n",
    "    car_kms = driver.find_elements(By.CLASS_NAME, \"HaBLt\")\n",
    "    car_locations = driver.find_elements(By.CLASS_NAME, \"FPpvB\")\n",
    "\n",
    "    data = []\n",
    "    for name, price, km, location in zip(car_names, car_prices, car_kms, car_locations):\n",
    "        car_km_raw = km.text.strip() if km else \"-\"\n",
    "        car_km = car_km_raw if any(char.isdigit() for char in car_km_raw) else \"KM Yok\"\n",
    "        data.append({\n",
    "            \"Model\": name.text.strip(),\n",
    "            \"Fiyat\": price.text.strip(),\n",
    "            \"Kilometre\": car_km,\n",
    "            \"Konum\": location.text.strip() if location else \"Konum Yok\",\n",
    "            \"Kaynak\": \"Mobile.de\"  # Kaynak belirtiyoruz\n",
    "        })\n",
    "    return data\n"
   ]
  },
  {
   "cell_type": "code",
   "execution_count": 4,
   "metadata": {},
   "outputs": [
    {
     "name": "stdout",
     "output_type": "stream",
     "text": [
      "Veriler başarıyla Excel'e kaydedildi: C:\\Users\\90546\\Desktop\\Cari7.xlsx\n",
      "Excel tablosu başarıyla düzenlendi: C:\\Users\\90546\\Desktop\\Cari7.xlsx\n"
     ]
    }
   ],
   "source": [
    "# Excel Dosyasını Düzenleme Fonksiyonu\n",
    "def style_excel(file_path):\n",
    "    workbook = load_workbook(file_path)\n",
    "    sheet = workbook.active\n",
    "\n",
    "    header_colors = {\n",
    "        \"A\": {\"header\": \"4F81BD\", \"content\": \"D9E1F2\"},\n",
    "        \"B\": {\"header\": \"C0504D\", \"content\": \"F4CCCC\"},\n",
    "        \"C\": {\"header\": \"9BBB59\", \"content\": \"E2EFDA\"},\n",
    "        \"D\": {\"header\": \"8064A2\", \"content\": \"D9D2E9\"},\n",
    "        \"E\": {\"header\": \"FF9933\", \"content\": \"FFE4B2\"},  # Kaynak: Turuncu başlık, açık turuncu içerik\n",
    "    }\n",
    "    header_font = Font(bold=True, color=\"FFFFFF\")\n",
    "    alignment = Alignment(horizontal=\"center\", vertical=\"center\")\n",
    "\n",
    "    for col_letter, colors in header_colors.items():\n",
    "        header_cell = sheet[f\"{col_letter}1\"]\n",
    "        header_cell.fill = PatternFill(start_color=colors[\"header\"], end_color=colors[\"header\"], fill_type=\"solid\")\n",
    "        header_cell.font = header_font\n",
    "        header_cell.alignment = alignment\n",
    "\n",
    "        for row in sheet.iter_rows(min_row=2, min_col=header_cell.column, max_col=header_cell.column):\n",
    "            for cell in row:\n",
    "                cell.fill = PatternFill(start_color=colors[\"content\"], end_color=colors[\"content\"], fill_type=\"solid\")\n",
    "                cell.alignment = alignment\n",
    "                if col_letter == \"C\" and cell.value == \"KM Yok\":\n",
    "                    cell.fill = PatternFill(start_color=\"FF9999\", end_color=\"FF9999\", fill_type=\"solid\")\n",
    "\n",
    "    for column in sheet.columns:\n",
    "        max_length = 0\n",
    "        column_letter = get_column_letter(column[0].column)\n",
    "        for cell in column:\n",
    "            if cell.value:\n",
    "                max_length = max(max_length, len(str(cell.value)))\n",
    "        sheet.column_dimensions[column_letter].width = max_length + 2\n",
    "\n",
    "    workbook.save(file_path)\n",
    "    print(f\"Excel tablosu başarıyla düzenlendi: {file_path}\")\n",
    "\n",
    "# Selenium Başlatma\n",
    "options = webdriver.ChromeOptions()\n",
    "options.add_argument(\"--start-maximized\")\n",
    "driver = webdriver.Chrome(service=Service(ChromeDriverManager().install()), options=options)\n",
    "\n",
    "try:\n",
    "    # Her iki siteden veri çek\n",
    "    autoscout_data = scrape_autoscout24(driver)\n",
    "    mobile_de_data = scrape_mobile_de(driver)\n",
    "\n",
    "    # Verileri birleştir ve Pandas DataFrame'e dönüştür\n",
    "    combined_data = autoscout_data + mobile_de_data\n",
    "    df = pd.DataFrame(combined_data)\n",
    "\n",
    "    # Excel'e kaydet\n",
    "    excel_path = \"C:\\\\Users\\\\90546\\\\Desktop\\\\Cari7.xlsx\"\n",
    "    df.to_excel(excel_path, index=False)\n",
    "    print(f\"Veriler başarıyla Excel'e kaydedildi: {excel_path}\")\n",
    "\n",
    "    # Excel dosyasını düzenle\n",
    "    style_excel(excel_path)\n",
    "\n",
    "finally:\n",
    "    driver.quit()"
   ]
  },
  {
   "cell_type": "code",
   "execution_count": null,
   "metadata": {},
   "outputs": [],
   "source": []
  },
  {
   "cell_type": "code",
   "execution_count": 5,
   "metadata": {},
   "outputs": [],
   "source": [
    "##df.to_excel(\"C:\\\\Users\\\\90546\\\\Desktop\\\\car.xlsx\",index=False)"
   ]
  },
  {
   "cell_type": "code",
   "execution_count": null,
   "metadata": {},
   "outputs": [],
   "source": []
  },
  {
   "cell_type": "code",
   "execution_count": null,
   "metadata": {},
   "outputs": [],
   "source": []
  }
 ],
 "metadata": {
  "kernelspec": {
   "display_name": "Python 3",
   "language": "python",
   "name": "python3"
  },
  "language_info": {
   "codemirror_mode": {
    "name": "ipython",
    "version": 3
   },
   "file_extension": ".py",
   "mimetype": "text/x-python",
   "name": "python",
   "nbconvert_exporter": "python",
   "pygments_lexer": "ipython3",
   "version": "3.12.6"
  }
 },
 "nbformat": 4,
 "nbformat_minor": 2
}
