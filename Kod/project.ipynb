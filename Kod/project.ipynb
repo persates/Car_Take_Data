{
 "cells": [
  {
   "cell_type": "code",
   "execution_count": 1,
   "metadata": {},
   "outputs": [],
   "source": [
    "from selenium import webdriver\n",
    "from selenium.webdriver.common.by import By\n",
    "from selenium.webdriver.chrome.service import Service\n",
    "from selenium.webdriver.support.ui import WebDriverWait\n",
    "from selenium.webdriver.support import expected_conditions as EC\n",
    "from webdriver_manager.chrome import ChromeDriverManager\n",
    "import pandas as pd\n",
    "from openpyxl import load_workbook\n",
    "from openpyxl.utils import get_column_letter\n",
    "from openpyxl.styles import PatternFill, Alignment, Font\n",
    "\n"
   ]
  },
  {
   "cell_type": "markdown",
   "metadata": {},
   "source": []
  },
  {
   "cell_type": "code",
   "execution_count": 2,
   "metadata": {},
   "outputs": [
    {
     "name": "stdout",
     "output_type": "stream",
     "text": [
      "Requirement already satisfied: openpyxl in c:\\users\\90546\\appdata\\local\\programs\\python\\python312\\lib\\site-packages (3.1.5)\n",
      "Requirement already satisfied: et-xmlfile in c:\\users\\90546\\appdata\\local\\programs\\python\\python312\\lib\\site-packages (from openpyxl) (2.0.0)\n",
      "Note: you may need to restart the kernel to use updated packages.\n"
     ]
    },
    {
     "name": "stderr",
     "output_type": "stream",
     "text": [
      "\n",
      "[notice] A new release of pip is available: 25.0 -> 25.0.1\n",
      "[notice] To update, run: python.exe -m pip install --upgrade pip\n"
     ]
    }
   ],
   "source": [
    "pip install openpyxl"
   ]
  },
  {
   "cell_type": "code",
   "execution_count": 3,
   "metadata": {},
   "outputs": [],
   "source": [
    "#autoscout take data\n",
    "def scrape_autoscout24(driver):\n",
    "    driver.get(\"https://www.autoscout24.com.tr/lst/bmw/i7\")\n",
    "    WebDriverWait(driver, 20).until(\n",
    "        EC.presence_of_all_elements_located((By.CLASS_NAME, \"ListItem_title__ndA4s\"))\n",
    "    )\n",
    "    car_names = driver.find_elements(By.CLASS_NAME, \"ListItem_title__ndA4s\")\n",
    "    car_prices = driver.find_elements(By.CLASS_NAME, \"Price_price__APlgs\")\n",
    "    car_kms = driver.find_elements(By.XPATH, \"//span[@data-testid='VehicleDetails-mileage_road']\")\n",
    "    car_locations = driver.find_elements(By.CLASS_NAME, \"SellerInfo_address__leRMu\")\n",
    "\n",
    "    data = []\n",
    "    for name, price, km, location in zip(car_names, car_prices, car_kms, car_locations):\n",
    "        car_km_raw = km.text.strip() if km else \"-\"\n",
    "        car_km = car_km_raw if any(char.isdigit() for char in car_km_raw) else \"KM Yok\"\n",
    "        data.append({\n",
    "            \"Model\": name.text.strip(),\n",
    "            \"Fiyat\": price.text.strip(),\n",
    "            \"Kilometre\": car_km,\n",
    "            \"Konum\": location.text.strip() if location else \"Konum Yok\",\n",
    "            \"Kaynak\": \"AutoScout24\"  \n",
    "        })\n",
    "    return data\n",
    "#suchen.mobile.de take data\n",
    "\n",
    "def scrape_mobile_de(driver):\n",
    "    driver.get(\"https://suchen.mobile.de/fahrzeuge/search.html?dam=false&isSearchRequest=true&ms=3500%3B336%3B%3B&ref=quickSearch&s=Car&sb=rel&vc=Car\")\n",
    "    WebDriverWait(driver, 20).until(\n",
    "        EC.presence_of_all_elements_located((By.CLASS_NAME, \"EflMX\"))\n",
    "    )\n",
    "    car_names = driver.find_elements(By.CLASS_NAME, \"EflMX\")\n",
    "    car_prices = driver.find_elements(By.CLASS_NAME, \"fpviJ\")\n",
    "    car_kms = driver.find_elements(By.CLASS_NAME, \"HaBLt\")\n",
    "    car_locations = driver.find_elements(By.CLASS_NAME, \"FPpvB\")\n",
    "\n",
    "    data = []\n",
    "    for name, price, km, location in zip(car_names, car_prices, car_kms, car_locations):\n",
    "        car_km_raw = km.text.strip() if km else \"-\"\n",
    "        car_km = car_km_raw if any(char.isdigit() for char in car_km_raw) else \"KM Yok\"\n",
    "        data.append({\n",
    "            \"Model\": name.text.strip(),\n",
    "            \"Fiyat\": price.text.strip(),\n",
    "            \"Kilometre\": car_km,\n",
    "            \"Konum\": location.text.strip() if location else \"Konum Yok\",\n",
    "            \"Kaynak\": \"Mobile.de\"  \n",
    "        })\n",
    "    return data\n"
   ]
  },
  {
   "cell_type": "code",
   "execution_count": 4,
   "metadata": {},
   "outputs": [
    {
     "ename": "TimeoutException",
     "evalue": "Message: \n",
     "output_type": "error",
     "traceback": [
      "\u001b[1;31m---------------------------------------------------------------------------\u001b[0m",
      "\u001b[1;31mTimeoutException\u001b[0m                          Traceback (most recent call last)",
      "Cell \u001b[1;32mIn[4], line 48\u001b[0m\n\u001b[0;32m     45\u001b[0m \u001b[38;5;28;01mtry\u001b[39;00m:\n\u001b[0;32m     46\u001b[0m     \u001b[38;5;66;03m# Her iki siteden veri çek\u001b[39;00m\n\u001b[0;32m     47\u001b[0m     autoscout_data \u001b[38;5;241m=\u001b[39m scrape_autoscout24(driver)\n\u001b[1;32m---> 48\u001b[0m     mobile_de_data \u001b[38;5;241m=\u001b[39m \u001b[43mscrape_mobile_de\u001b[49m\u001b[43m(\u001b[49m\u001b[43mdriver\u001b[49m\u001b[43m)\u001b[49m\n\u001b[0;32m     50\u001b[0m     \u001b[38;5;66;03m# Verileri birleştir ve Pandas DataFrame'e dönüştür\u001b[39;00m\n\u001b[0;32m     51\u001b[0m     combined_data \u001b[38;5;241m=\u001b[39m autoscout_data \u001b[38;5;241m+\u001b[39m mobile_de_data\n",
      "Cell \u001b[1;32mIn[3], line 28\u001b[0m, in \u001b[0;36mscrape_mobile_de\u001b[1;34m(driver)\u001b[0m\n\u001b[0;32m     26\u001b[0m \u001b[38;5;28;01mdef\u001b[39;00m \u001b[38;5;21mscrape_mobile_de\u001b[39m(driver):\n\u001b[0;32m     27\u001b[0m     driver\u001b[38;5;241m.\u001b[39mget(\u001b[38;5;124m\"\u001b[39m\u001b[38;5;124mhttps://suchen.mobile.de/fahrzeuge/search.html?dam=false&isSearchRequest=true&ms=3500\u001b[39m\u001b[38;5;124m%\u001b[39m\u001b[38;5;124m3B336\u001b[39m\u001b[38;5;124m%\u001b[39m\u001b[38;5;124m3B\u001b[39m\u001b[38;5;124m%\u001b[39m\u001b[38;5;124m3B&ref=quickSearch&s=Car&sb=rel&vc=Car\u001b[39m\u001b[38;5;124m\"\u001b[39m)\n\u001b[1;32m---> 28\u001b[0m     \u001b[43mWebDriverWait\u001b[49m\u001b[43m(\u001b[49m\u001b[43mdriver\u001b[49m\u001b[43m,\u001b[49m\u001b[43m \u001b[49m\u001b[38;5;241;43m20\u001b[39;49m\u001b[43m)\u001b[49m\u001b[38;5;241;43m.\u001b[39;49m\u001b[43muntil\u001b[49m\u001b[43m(\u001b[49m\n\u001b[0;32m     29\u001b[0m \u001b[43m        \u001b[49m\u001b[43mEC\u001b[49m\u001b[38;5;241;43m.\u001b[39;49m\u001b[43mpresence_of_all_elements_located\u001b[49m\u001b[43m(\u001b[49m\u001b[43m(\u001b[49m\u001b[43mBy\u001b[49m\u001b[38;5;241;43m.\u001b[39;49m\u001b[43mCLASS_NAME\u001b[49m\u001b[43m,\u001b[49m\u001b[43m \u001b[49m\u001b[38;5;124;43m\"\u001b[39;49m\u001b[38;5;124;43mEflMX\u001b[39;49m\u001b[38;5;124;43m\"\u001b[39;49m\u001b[43m)\u001b[49m\u001b[43m)\u001b[49m\n\u001b[0;32m     30\u001b[0m \u001b[43m    \u001b[49m\u001b[43m)\u001b[49m\n\u001b[0;32m     31\u001b[0m     car_names \u001b[38;5;241m=\u001b[39m driver\u001b[38;5;241m.\u001b[39mfind_elements(By\u001b[38;5;241m.\u001b[39mCLASS_NAME, \u001b[38;5;124m\"\u001b[39m\u001b[38;5;124mEflMX\u001b[39m\u001b[38;5;124m\"\u001b[39m)\n\u001b[0;32m     32\u001b[0m     car_prices \u001b[38;5;241m=\u001b[39m driver\u001b[38;5;241m.\u001b[39mfind_elements(By\u001b[38;5;241m.\u001b[39mCLASS_NAME, \u001b[38;5;124m\"\u001b[39m\u001b[38;5;124mfpviJ\u001b[39m\u001b[38;5;124m\"\u001b[39m)\n",
      "File \u001b[1;32mc:\\Users\\90546\\AppData\\Local\\Programs\\Python\\Python312\\Lib\\site-packages\\selenium\\webdriver\\support\\wait.py:105\u001b[0m, in \u001b[0;36mWebDriverWait.until\u001b[1;34m(self, method, message)\u001b[0m\n\u001b[0;32m    103\u001b[0m     \u001b[38;5;28;01mif\u001b[39;00m time\u001b[38;5;241m.\u001b[39mmonotonic() \u001b[38;5;241m>\u001b[39m end_time:\n\u001b[0;32m    104\u001b[0m         \u001b[38;5;28;01mbreak\u001b[39;00m\n\u001b[1;32m--> 105\u001b[0m \u001b[38;5;28;01mraise\u001b[39;00m TimeoutException(message, screen, stacktrace)\n",
      "\u001b[1;31mTimeoutException\u001b[0m: Message: \n"
     ]
    }
   ],
   "source": [
    "# Excel\n",
    "def style_excel(file_path):\n",
    "    workbook = load_workbook(file_path)\n",
    "    sheet = workbook.active\n",
    "\n",
    "    header_colors = {\n",
    "        \"A\": {\"header\": \"4F81BD\", \"content\": \"D9E1F2\"},\n",
    "        \"B\": {\"header\": \"C0504D\", \"content\": \"F4CCCC\"},\n",
    "        \"C\": {\"header\": \"9BBB59\", \"content\": \"E2EFDA\"},\n",
    "        \"D\": {\"header\": \"8064A2\", \"content\": \"D9D2E9\"},\n",
    "        \"E\": {\"header\": \"FF9933\", \"content\": \"FFE4B2\"},  \n",
    "    }\n",
    "    header_font = Font(bold=True, color=\"FFFFFF\")\n",
    "    alignment = Alignment(horizontal=\"center\", vertical=\"center\")\n",
    "\n",
    "    for col_letter, colors in header_colors.items():\n",
    "        header_cell = sheet[f\"{col_letter}1\"]\n",
    "        header_cell.fill = PatternFill(start_color=colors[\"header\"], end_color=colors[\"header\"], fill_type=\"solid\")\n",
    "        header_cell.font = header_font\n",
    "        header_cell.alignment = alignment\n",
    "\n",
    "        for row in sheet.iter_rows(min_row=2, min_col=header_cell.column, max_col=header_cell.column):\n",
    "            for cell in row:\n",
    "                cell.fill = PatternFill(start_color=colors[\"content\"], end_color=colors[\"content\"], fill_type=\"solid\")\n",
    "                cell.alignment = alignment\n",
    "                if col_letter == \"C\" and cell.value == \"KM Yok\":\n",
    "                    cell.fill = PatternFill(start_color=\"FF9999\", end_color=\"FF9999\", fill_type=\"solid\")\n",
    "\n",
    "    for column in sheet.columns:\n",
    "        max_length = 0\n",
    "        column_letter = get_column_letter(column[0].column)\n",
    "        for cell in column:\n",
    "            if cell.value:\n",
    "                max_length = max(max_length, len(str(cell.value)))\n",
    "        sheet.column_dimensions[column_letter].width = max_length + 2\n",
    "\n",
    "    workbook.save(file_path)\n",
    "    print(f\"Excel tablosu başarıyla düzenlendi: {file_path}\")\n",
    "\n",
    "# Selenium Başlatma\n",
    "options = webdriver.ChromeOptions()\n",
    "options.add_argument(\"--start-maximized\")\n",
    "driver = webdriver.Chrome(service=Service(ChromeDriverManager().install()), options=options)\n",
    "\n",
    "try:\n",
    "    # Her iki siteden veri çek\n",
    "    autoscout_data = scrape_autoscout24(driver)\n",
    "    mobile_de_data = scrape_mobile_de(driver)\n",
    "\n",
    "    # Verileri birleştir ve Pandas DataFrame'e dönüştür\n",
    "    combined_data = autoscout_data + mobile_de_data\n",
    "    df = pd.DataFrame(combined_data)\n",
    "\n",
    "    # Excel'e kaydet\n",
    "    excel_path = \"C:\\\\Users\\\\90546\\\\Desktop\\\\Cari7.xlsx\"\n",
    "    df.to_excel(excel_path, index=False)\n",
    "    print(f\"Veriler başarıyla Excel'e kaydedildi: {excel_path}\")\n",
    "\n",
    "    # Excel dosyasını düzenle\n",
    "    style_excel(excel_path)\n",
    "\n",
    "finally:\n",
    "    driver.quit()"
   ]
  },
  {
   "cell_type": "code",
   "execution_count": null,
   "metadata": {},
   "outputs": [],
   "source": []
  },
  {
   "cell_type": "code",
   "execution_count": null,
   "metadata": {},
   "outputs": [],
   "source": [
    "##df.to_excel(\"C:\\\\Users\\\\90546\\\\Desktop\\\\car.xlsx\",index=False)"
   ]
  },
  {
   "cell_type": "code",
   "execution_count": null,
   "metadata": {},
   "outputs": [],
   "source": []
  },
  {
   "cell_type": "code",
   "execution_count": null,
   "metadata": {},
   "outputs": [],
   "source": []
  }
 ],
 "metadata": {
  "kernelspec": {
   "display_name": "Python 3",
   "language": "python",
   "name": "python3"
  },
  "language_info": {
   "codemirror_mode": {
    "name": "ipython",
    "version": 3
   },
   "file_extension": ".py",
   "mimetype": "text/x-python",
   "name": "python",
   "nbconvert_exporter": "python",
   "pygments_lexer": "ipython3",
   "version": "3.12.6"
  }
 },
 "nbformat": 4,
 "nbformat_minor": 2
}
